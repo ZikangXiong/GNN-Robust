{
 "cells": [
  {
   "cell_type": "code",
   "execution_count": 1,
   "metadata": {},
   "outputs": [],
   "source": [
    "from robust_gcn_structure.certification import certify\n",
    "from robust_gcn_structure.utils import load_npz\n",
    "from matplotlib import pyplot as plt\n",
    "import torch"
   ]
  },
  {
   "cell_type": "code",
   "execution_count": 2,
   "metadata": {},
   "outputs": [],
   "source": [
    "dataset = \"citeseer\"\n",
    "robust_gcn = False  # Whether to load weights for GCN trained with the approach by [Zügner and Günnemann 2019\n",
    "\n",
    "local_budget = 3\n",
    "global_budget = 5"
   ]
  },
  {
   "cell_type": "code",
   "execution_count": 3,
   "metadata": {},
   "outputs": [],
   "source": [
    "target_node = 3311\n",
    "eval_class = None #0"
   ]
  },
  {
   "cell_type": "code",
   "execution_count": 4,
   "metadata": {},
   "outputs": [],
   "source": [
    "solver = \"ECOS\"\n",
    "max_iters = 250\n",
    "tolerance = 1e-2\n",
    "kwargs = {\n",
    "    'tolerance': tolerance,\n",
    "    'max_iter': max_iters\n",
    "}"
   ]
  },
  {
   "cell_type": "code",
   "execution_count": 5,
   "metadata": {},
   "outputs": [
    {
     "name": "stderr",
     "output_type": "stream",
     "text": [
      "/home/zxiong/development/general_dev_p3/lib/python3.6/site-packages/scipy/sparse/_index.py:126: SparseEfficiencyWarning: Changing the sparsity structure of a csr_matrix is expensive. lil_matrix is more efficient.\n",
      "  self._set_arrayXarray(i, j, x)\n"
     ]
    }
   ],
   "source": [
    "A, X, z = load_npz(f'../datasets/{dataset}.npz')\n",
    "A = A + A.T\n",
    "A[A > 1] = 1\n",
    "A.setdiag(0)\n",
    "\n",
    "X = (X>0).astype(\"float32\")\n",
    "z = z.astype(\"int64\")\n",
    "N, D = X.shape\n",
    "\n",
    "weight_path = f\"../pretrained_weights/{dataset}\"\n",
    "if robust_gcn:\n",
    "    weight_path = f\"{weight_path}_robust_gcn.pkl\"\n",
    "else:\n",
    "    weight_path = f\"{weight_path}_gcn.pkl\"\n",
    "\n",
    "state_dict = torch.load(weight_path, map_location=\"cpu\")\n",
    "\n",
    "weights = [v for k,v in state_dict.items() if \"weight\" in k and \"conv\" in k]\n",
    "biases = [v for k,v in state_dict.items() if \"bias\" in k and \"conv\" in k]\n",
    "\n",
    "W1, W2 = [w.cpu().detach().numpy() for w in weights]\n",
    "b1, b2 = [b.cpu().detach().numpy() for b in biases]\n",
    "\n",
    "shapes = [x.shape[0] for x in biases]\n",
    "num_hidden = len(shapes) - 1\n",
    "if num_hidden > 1:\n",
    "    raise NotImplementedError(\"Only one hidden layer is supported.\")\n",
    "\n",
    "weight_list = [W1, b1, W2, b2]\n",
    "# info_dict = {}\n",
    "\n",
    "results = certify(target_node, A, X, weight_list, z,\n",
    "                  local_changes=local_budget,\n",
    "                  global_changes=global_budget,\n",
    "                  solver=solver, eval_class=eval_class,\n",
    "                  use_predicted_class=True,\n",
    "#                   info_dict=info_dict, \n",
    "                  **kwargs)\n"
   ]
  },
  {
   "cell_type": "code",
   "execution_count": 20,
   "metadata": {},
   "outputs": [
    {
     "ename": "NameError",
     "evalue": "name 'Linear' is not defined",
     "output_type": "error",
     "traceback": [
      "\u001b[0;31m-------------------------------------------------------\u001b[0m",
      "\u001b[0;31mNameError\u001b[0m             Traceback (most recent call last)",
      "\u001b[0;32m<ipython-input-20-be9bfb7ea023>\u001b[0m in \u001b[0;36m<module>\u001b[0;34m\u001b[0m\n\u001b[1;32m     30\u001b[0m     \u001b[0;32mreturn\u001b[0m \u001b[0mlogits\u001b[0m\u001b[0;34m\u001b[0m\u001b[0;34m\u001b[0m\u001b[0m\n\u001b[1;32m     31\u001b[0m \u001b[0;34m\u001b[0m\u001b[0m\n\u001b[0;32m---> 32\u001b[0;31m \u001b[0mgcn_forward\u001b[0m\u001b[0;34m(\u001b[0m\u001b[0mA\u001b[0m\u001b[0;34m,\u001b[0m \u001b[0mX\u001b[0m\u001b[0;34m,\u001b[0m \u001b[0mweight_list\u001b[0m\u001b[0;34m)\u001b[0m\u001b[0;34m\u001b[0m\u001b[0;34m\u001b[0m\u001b[0m\n\u001b[0m",
      "\u001b[0;32m<ipython-input-20-be9bfb7ea023>\u001b[0m in \u001b[0;36mgcn_forward\u001b[0;34m(A_hat, X, weights, i)\u001b[0m\n\u001b[1;32m      4\u001b[0m \u001b[0;32mdef\u001b[0m \u001b[0mgcn_forward\u001b[0m\u001b[0;34m(\u001b[0m\u001b[0mA_hat\u001b[0m\u001b[0;34m,\u001b[0m \u001b[0mX\u001b[0m\u001b[0;34m,\u001b[0m \u001b[0mweights\u001b[0m\u001b[0;34m,\u001b[0m \u001b[0mi\u001b[0m\u001b[0;34m=\u001b[0m\u001b[0;32mNone\u001b[0m\u001b[0;34m)\u001b[0m\u001b[0;34m:\u001b[0m\u001b[0;34m\u001b[0m\u001b[0;34m\u001b[0m\u001b[0m\n\u001b[1;32m      5\u001b[0m     \u001b[0mW1\u001b[0m\u001b[0;34m,\u001b[0m \u001b[0mb1\u001b[0m\u001b[0;34m,\u001b[0m \u001b[0mW2\u001b[0m\u001b[0;34m,\u001b[0m \u001b[0mb2\u001b[0m \u001b[0;34m=\u001b[0m \u001b[0mweights\u001b[0m\u001b[0;34m\u001b[0m\u001b[0;34m\u001b[0m\u001b[0m\n\u001b[0;32m----> 6\u001b[0;31m     \u001b[0ml1\u001b[0m \u001b[0;34m=\u001b[0m \u001b[0mLinear\u001b[0m\u001b[0;34m(\u001b[0m\u001b[0mW1\u001b[0m\u001b[0;34m.\u001b[0m\u001b[0mshape\u001b[0m\u001b[0;34m[\u001b[0m\u001b[0;36m0\u001b[0m\u001b[0;34m]\u001b[0m\u001b[0;34m,\u001b[0m \u001b[0mW1\u001b[0m\u001b[0;34m.\u001b[0m\u001b[0mshape\u001b[0m\u001b[0;34m[\u001b[0m\u001b[0;36m1\u001b[0m\u001b[0;34m]\u001b[0m\u001b[0;34m,\u001b[0m \u001b[0mbias\u001b[0m\u001b[0;34m=\u001b[0m\u001b[0;32mTrue\u001b[0m\u001b[0;34m)\u001b[0m\u001b[0;34m\u001b[0m\u001b[0;34m\u001b[0m\u001b[0m\n\u001b[0m\u001b[1;32m      7\u001b[0m     \u001b[0ml2\u001b[0m \u001b[0;34m=\u001b[0m \u001b[0mLinear\u001b[0m\u001b[0;34m(\u001b[0m\u001b[0mW2\u001b[0m\u001b[0;34m.\u001b[0m\u001b[0mshape\u001b[0m\u001b[0;34m[\u001b[0m\u001b[0;36m0\u001b[0m\u001b[0;34m]\u001b[0m\u001b[0;34m,\u001b[0m \u001b[0mW2\u001b[0m\u001b[0;34m.\u001b[0m\u001b[0mshape\u001b[0m\u001b[0;34m[\u001b[0m\u001b[0;36m1\u001b[0m\u001b[0;34m]\u001b[0m\u001b[0;34m,\u001b[0m \u001b[0mbias\u001b[0m\u001b[0;34m=\u001b[0m\u001b[0;32mTrue\u001b[0m\u001b[0;34m)\u001b[0m\u001b[0;34m\u001b[0m\u001b[0;34m\u001b[0m\u001b[0m\n\u001b[1;32m      8\u001b[0m     \u001b[0mabs_ahat\u001b[0m \u001b[0;34m=\u001b[0m \u001b[0mLinear\u001b[0m\u001b[0;34m(\u001b[0m\u001b[0mA_hat\u001b[0m\u001b[0;34m.\u001b[0m\u001b[0mshape\u001b[0m\u001b[0;34m[\u001b[0m\u001b[0;36m0\u001b[0m\u001b[0;34m]\u001b[0m\u001b[0;34m,\u001b[0m \u001b[0mA_hat\u001b[0m\u001b[0;34m.\u001b[0m\u001b[0mshape\u001b[0m\u001b[0;34m[\u001b[0m\u001b[0;36m1\u001b[0m\u001b[0;34m]\u001b[0m\u001b[0;34m,\u001b[0m \u001b[0mbias\u001b[0m\u001b[0;34m=\u001b[0m\u001b[0;32mFalse\u001b[0m\u001b[0;34m)\u001b[0m\u001b[0;34m\u001b[0m\u001b[0;34m\u001b[0m\u001b[0m\n",
      "\u001b[0;31mNameError\u001b[0m: name 'Linear' is not defined"
     ]
    }
   ],
   "source": [
    "import torch as th\n",
    "import numpy as np\n",
    "\n",
    "def gcn_forward(A_hat, X, weights, i=None):\n",
    "    W1, b1, W2, b2 = weights\n",
    "    l1 = Linear(W1.shape[0], W1.shape[1], bias=True)\n",
    "    l2 = Linear(W2.shape[0], W2.shape[1], bias=True)\n",
    "    abs_ahat = Linear(A_hat.shape[0], A_hat.shape[1], bias=False)\n",
    "\n",
    "    W1 = th.from_numpy(W1)\n",
    "    b1 = th.from_numpy(b1)\n",
    "    W2 = th.from_numpy(W2)\n",
    "    b2 = th.from_numpy(b2)\n",
    "    A_hat = A_hat.tocoo()\n",
    "    A_hat = th.sparse.DoubleTensor(th.LongTensor([A_hat.row.tolist(), A_hat.col.tolist()]),\n",
    "                                   th.DoubleTensor(A_hat.data.astype(np.int32)))\n",
    "\n",
    "    l1.weight.data = W1\n",
    "    l1.bias.data = b1\n",
    "    l2.weight.data = W2\n",
    "    l2.bias.data = b2\n",
    "    abs_ahat.weight.data = A_hat\n",
    "\n",
    "    l1_out = th.relu(abs_ahat(l1(X)))\n",
    "    logits = abs_ahat(l2(l1_out))\n",
    "\n",
    "    if i is not None:\n",
    "        logits = logits[i]\n",
    "\n",
    "    return logits\n",
    "\n",
    "gcn_forward(A, X, weight_list)"
   ]
  },
  {
   "cell_type": "code",
   "execution_count": 6,
   "metadata": {},
   "outputs": [
    {
     "data": {
      "text/plain": [
       "{'all_robust': True,\n",
       " 1: {},\n",
       " 5: {'robust': True,\n",
       "  'best_uppers': [4.957600847403593],\n",
       "  'best_lowers': [1.024755233774429],\n",
       "  'An_pert': <7x24 sparse matrix of type '<class 'numpy.float64'>'\n",
       "  \twith 168 stored elements in Compressed Sparse Row format>,\n",
       "  'logit_diff_before': 7.977204183916103,\n",
       "  'solve_times': [0.041622505]},\n",
       " 2: {'robust': True,\n",
       "  'best_uppers': [4.676333493537031, 4.0924052085308285],\n",
       "  'best_lowers': [-0.36070931688405894, 0.39936849497546323],\n",
       "  'An_pert': <7x24 sparse matrix of type '<class 'numpy.float64'>'\n",
       "  \twith 168 stored elements in Compressed Sparse Row format>,\n",
       "  'logit_diff_before': 8.001205324903085,\n",
       "  'solve_times': [0.052148657,\n",
       "   0.041674059,\n",
       "   0.034963481,\n",
       "   0.054064643,\n",
       "   0.050784099]},\n",
       " 4: {'robust': True,\n",
       "  'best_uppers': [3.388207887405914],\n",
       "  'best_lowers': [0.1493721788140856],\n",
       "  'An_pert': <7x24 sparse matrix of type '<class 'numpy.float64'>'\n",
       "  \twith 168 stored elements in Compressed Sparse Row format>,\n",
       "  'logit_diff_before': 8.61459376594334,\n",
       "  'solve_times': [0.04729735]},\n",
       " 0: {'robust': True,\n",
       "  'best_uppers': [5.586780756381851],\n",
       "  'best_lowers': [2.2266947490958358],\n",
       "  'An_pert': <7x24 sparse matrix of type '<class 'numpy.float64'>'\n",
       "  \twith 168 stored elements in Compressed Sparse Row format>,\n",
       "  'logit_diff_before': 9.626854704523778,\n",
       "  'solve_times': [0.058481063]},\n",
       " 3: {'robust': True,\n",
       "  'best_uppers': [7.806346844901867],\n",
       "  'best_lowers': [2.598766225336609],\n",
       "  'An_pert': <7x24 sparse matrix of type '<class 'numpy.float64'>'\n",
       "  \twith 168 stored elements in Compressed Sparse Row format>,\n",
       "  'logit_diff_before': 15.617070558899691,\n",
       "  'solve_times': [0.037494505]}}"
      ]
     },
     "execution_count": 6,
     "metadata": {},
     "output_type": "execute_result"
    }
   ],
   "source": [
    "results"
   ]
  },
  {
   "cell_type": "code",
   "execution_count": 8,
   "metadata": {},
   "outputs": [
    {
     "ename": "KeyError",
     "evalue": "'robust'",
     "output_type": "error",
     "traceback": [
      "\u001b[0;31m-------------------------------------------------------\u001b[0m",
      "\u001b[0;31mKeyError\u001b[0m              Traceback (most recent call last)",
      "\u001b[0;32m<ipython-input-8-cbca55beb6b2>\u001b[0m in \u001b[0;36m<module>\u001b[0;34m\u001b[0m\n\u001b[0;32m----> 1\u001b[0;31m \u001b[0;32mif\u001b[0m \u001b[0mresults\u001b[0m\u001b[0;34m[\u001b[0m\u001b[0;34m'robust'\u001b[0m\u001b[0;34m]\u001b[0m \u001b[0;34m==\u001b[0m \u001b[0;32mTrue\u001b[0m\u001b[0;34m:\u001b[0m\u001b[0;34m\u001b[0m\u001b[0;34m\u001b[0m\u001b[0m\n\u001b[0m\u001b[1;32m      2\u001b[0m     \u001b[0mprint\u001b[0m\u001b[0;34m(\u001b[0m\u001b[0;34mf\"Robustness for node {target_node} and class {eval_class} successfully certified.\"\u001b[0m\u001b[0;34m)\u001b[0m\u001b[0;34m\u001b[0m\u001b[0;34m\u001b[0m\u001b[0m\n\u001b[1;32m      3\u001b[0m \u001b[0;32melse\u001b[0m\u001b[0;34m:\u001b[0m\u001b[0;34m\u001b[0m\u001b[0;34m\u001b[0m\u001b[0m\n\u001b[1;32m      4\u001b[0m     \u001b[0mprint\u001b[0m\u001b[0;34m(\u001b[0m\u001b[0;34mf\"Robustness for node {target_node} and class {eval_class} could not be certified.\"\u001b[0m\u001b[0;34m)\u001b[0m\u001b[0;34m\u001b[0m\u001b[0;34m\u001b[0m\u001b[0m\n",
      "\u001b[0;31mKeyError\u001b[0m: 'robust'"
     ]
    }
   ],
   "source": [
    "if results['robust'] == True:\n",
    "    print(f\"Robustness for node {target_node} and class {eval_class} successfully certified.\")\n",
    "else:\n",
    "    print(f\"Robustness for node {target_node} and class {eval_class} could not be certified.\")"
   ]
  },
  {
   "cell_type": "code",
   "execution_count": null,
   "metadata": {},
   "outputs": [],
   "source": [
    "plt.plot(results['best_lowers'], label=\"lower bound\")\n",
    "plt.plot(results['best_uppers'], label=\"upper bound\")\n",
    "plt.plot((0,len(results['best_uppers'])-1), (0,0), color=\"black\", linestyle=\"--\")\n",
    "plt.legend()\n",
    "plt.show()"
   ]
  }
 ],
 "metadata": {
  "kernelspec": {
   "display_name": "Python 3",
   "language": "python",
   "name": "python3"
  },
  "language_info": {
   "codemirror_mode": {
    "name": "ipython",
    "version": 3
   },
   "file_extension": ".py",
   "mimetype": "text/x-python",
   "name": "python",
   "nbconvert_exporter": "python",
   "pygments_lexer": "ipython3",
   "version": "3.6.7"
  }
 },
 "nbformat": 4,
 "nbformat_minor": 4
}
