{
 "cells": [
  {
   "cell_type": "code",
   "execution_count": 1,
   "metadata": {},
   "outputs": [],
   "source": [
    "%load_ext autoreload\n",
    "%autoreload 2"
   ]
  },
  {
   "cell_type": "code",
   "execution_count": 2,
   "metadata": {},
   "outputs": [],
   "source": [
    "import ray\n",
    "import pandas as pd\n",
    "import seaborn as sns"
   ]
  },
  {
   "cell_type": "code",
   "execution_count": 3,
   "metadata": {},
   "outputs": [
    {
     "name": "stderr",
     "output_type": "stream",
     "text": [
      "2020-12-02 17:09:21,507\tINFO services.py:1166 -- View the Ray dashboard at \u001b[1m\u001b[32mhttp://127.0.0.1:8266\u001b[39m\u001b[22m\n"
     ]
    }
   ],
   "source": [
    "_ = ray.init(num_cpus=12)"
   ]
  },
  {
   "cell_type": "code",
   "execution_count": 4,
   "metadata": {},
   "outputs": [],
   "source": [
    "from robust_gcn_structure import loader\n",
    "from abs.gcn_abs import certify\n",
    "\n",
    "import time\n",
    "import warnings\n",
    "warnings.filterwarnings('ignore')"
   ]
  },
  {
   "cell_type": "code",
   "execution_count": 5,
   "metadata": {},
   "outputs": [],
   "source": [
    "@ray.remote\n",
    "def check(dataset, node_range, Q, q, solver=\"ECOS\"):\n",
    "    warnings.filterwarnings('ignore')\n",
    "    times = []\n",
    "    A, X, z = loader.load_dataset(dataset)\n",
    "    weight_list = loader.load_network(dataset, False)\n",
    "\n",
    "    cert_count = 0\n",
    "    uncert_count = 0\n",
    "    not_sure = 0\n",
    "    for i in node_range:\n",
    "        start = time.time()\n",
    "        lb, ub = certify(i, A, X, weight_list, z, q, Q, dataset)\n",
    "        if lb > 0:\n",
    "            cert_count += 1\n",
    "        elif ub < 0:\n",
    "            uncert_count += 1\n",
    "        else:\n",
    "            not_sure += 1\n",
    "        end = time.time()\n",
    "        \n",
    "        times.append(end-start)\n",
    "\n",
    "    return (cert_count, uncert_count, not_sure), times"
   ]
  },
  {
   "cell_type": "code",
   "execution_count": 6,
   "metadata": {},
   "outputs": [],
   "source": [
    "budgets = [(1, 1), (5, 3), (10, 5)]\n",
    "datasets = [\"citeseer\", \"cora_ml\", \"pubmed\"]\n",
    "node_range = range(0, 1000)"
   ]
  },
  {
   "cell_type": "code",
   "execution_count": 7,
   "metadata": {},
   "outputs": [],
   "source": [
    "res = []\n",
    "for d in datasets:\n",
    "    for b in budgets:\n",
    "        res.append(check.remote(d, node_range, *b))"
   ]
  },
  {
   "cell_type": "code",
   "execution_count": 8,
   "metadata": {},
   "outputs": [],
   "source": [
    "i = 0\n",
    "cert_data = {\"dataset\": [], \"budgets\": [], \"cert\": [], \"uncert\": [], \"not_sure\": []}\n",
    "time_data = {\"node\": [], \"dataset\": [], \"budgets\": [], \"solving_time\": []}\n",
    "\n",
    "for d in datasets:\n",
    "    for b in budgets:        \n",
    "        (cert, uncert, not_sure), times = ray.get(res[i])\n",
    "        cert_data[\"dataset\"].append(d)\n",
    "        cert_data[\"budgets\"].append(str(b))\n",
    "        cert_data[\"cert\"].append(cert)\n",
    "        cert_data[\"uncert\"].append(uncert)\n",
    "        cert_data[\"not_sure\"].append(not_sure)\n",
    "        \n",
    "        for n, t in zip(node_range, times):\n",
    "            time_data[\"node\"].append(n)\n",
    "            time_data[\"dataset\"].append(d)\n",
    "            time_data[\"budgets\"].append(str(b))\n",
    "            time_data[\"solving_time\"].append(t)\n",
    "        \n",
    "        i = i+1"
   ]
  },
  {
   "cell_type": "code",
   "execution_count": 9,
   "metadata": {},
   "outputs": [
    {
     "data": {
      "text/html": [
       "<div>\n",
       "<style scoped>\n",
       "    .dataframe tbody tr th:only-of-type {\n",
       "        vertical-align: middle;\n",
       "    }\n",
       "\n",
       "    .dataframe tbody tr th {\n",
       "        vertical-align: top;\n",
       "    }\n",
       "\n",
       "    .dataframe thead th {\n",
       "        text-align: right;\n",
       "    }\n",
       "</style>\n",
       "<table border=\"1\" class=\"dataframe\">\n",
       "  <thead>\n",
       "    <tr style=\"text-align: right;\">\n",
       "      <th></th>\n",
       "      <th>dataset</th>\n",
       "      <th>budgets</th>\n",
       "      <th>cert</th>\n",
       "      <th>uncert</th>\n",
       "      <th>not_sure</th>\n",
       "    </tr>\n",
       "  </thead>\n",
       "  <tbody>\n",
       "    <tr>\n",
       "      <th>0</th>\n",
       "      <td>citeseer</td>\n",
       "      <td>(1, 1)</td>\n",
       "      <td>712</td>\n",
       "      <td>16</td>\n",
       "      <td>272</td>\n",
       "    </tr>\n",
       "    <tr>\n",
       "      <th>1</th>\n",
       "      <td>citeseer</td>\n",
       "      <td>(5, 3)</td>\n",
       "      <td>676</td>\n",
       "      <td>12</td>\n",
       "      <td>312</td>\n",
       "    </tr>\n",
       "    <tr>\n",
       "      <th>2</th>\n",
       "      <td>citeseer</td>\n",
       "      <td>(10, 5)</td>\n",
       "      <td>472</td>\n",
       "      <td>5</td>\n",
       "      <td>523</td>\n",
       "    </tr>\n",
       "    <tr>\n",
       "      <th>3</th>\n",
       "      <td>cora_ml</td>\n",
       "      <td>(1, 1)</td>\n",
       "      <td>843</td>\n",
       "      <td>0</td>\n",
       "      <td>157</td>\n",
       "    </tr>\n",
       "    <tr>\n",
       "      <th>4</th>\n",
       "      <td>cora_ml</td>\n",
       "      <td>(5, 3)</td>\n",
       "      <td>769</td>\n",
       "      <td>0</td>\n",
       "      <td>231</td>\n",
       "    </tr>\n",
       "    <tr>\n",
       "      <th>5</th>\n",
       "      <td>cora_ml</td>\n",
       "      <td>(10, 5)</td>\n",
       "      <td>704</td>\n",
       "      <td>0</td>\n",
       "      <td>296</td>\n",
       "    </tr>\n",
       "    <tr>\n",
       "      <th>6</th>\n",
       "      <td>pubmed</td>\n",
       "      <td>(1, 1)</td>\n",
       "      <td>855</td>\n",
       "      <td>15</td>\n",
       "      <td>130</td>\n",
       "    </tr>\n",
       "    <tr>\n",
       "      <th>7</th>\n",
       "      <td>pubmed</td>\n",
       "      <td>(5, 3)</td>\n",
       "      <td>646</td>\n",
       "      <td>3</td>\n",
       "      <td>351</td>\n",
       "    </tr>\n",
       "    <tr>\n",
       "      <th>8</th>\n",
       "      <td>pubmed</td>\n",
       "      <td>(10, 5)</td>\n",
       "      <td>612</td>\n",
       "      <td>4</td>\n",
       "      <td>384</td>\n",
       "    </tr>\n",
       "  </tbody>\n",
       "</table>\n",
       "</div>"
      ],
      "text/plain": [
       "    dataset  budgets  cert  uncert  not_sure\n",
       "0  citeseer   (1, 1)   712      16       272\n",
       "1  citeseer   (5, 3)   676      12       312\n",
       "2  citeseer  (10, 5)   472       5       523\n",
       "3   cora_ml   (1, 1)   843       0       157\n",
       "4   cora_ml   (5, 3)   769       0       231\n",
       "5   cora_ml  (10, 5)   704       0       296\n",
       "6    pubmed   (1, 1)   855      15       130\n",
       "7    pubmed   (5, 3)   646       3       351\n",
       "8    pubmed  (10, 5)   612       4       384"
      ]
     },
     "execution_count": 9,
     "metadata": {},
     "output_type": "execute_result"
    }
   ],
   "source": [
    "cert_df = pd.DataFrame.from_dict(cert_data)\n",
    "cert_df"
   ]
  },
  {
   "cell_type": "code",
   "execution_count": 14,
   "metadata": {},
   "outputs": [],
   "source": [
    "cert_df[\"cert\"] /= 1000\n",
    "cert_df[\"uncert\"] /= 1000\n",
    "cert_df[\"not_sure\"] /= 1000"
   ]
  },
  {
   "cell_type": "code",
   "execution_count": 15,
   "metadata": {},
   "outputs": [
    {
     "data": {
      "text/html": [
       "<div>\n",
       "<style scoped>\n",
       "    .dataframe tbody tr th:only-of-type {\n",
       "        vertical-align: middle;\n",
       "    }\n",
       "\n",
       "    .dataframe tbody tr th {\n",
       "        vertical-align: top;\n",
       "    }\n",
       "\n",
       "    .dataframe thead th {\n",
       "        text-align: right;\n",
       "    }\n",
       "</style>\n",
       "<table border=\"1\" class=\"dataframe\">\n",
       "  <thead>\n",
       "    <tr style=\"text-align: right;\">\n",
       "      <th></th>\n",
       "      <th>dataset</th>\n",
       "      <th>budgets</th>\n",
       "      <th>cert</th>\n",
       "      <th>uncert</th>\n",
       "      <th>not_sure</th>\n",
       "    </tr>\n",
       "  </thead>\n",
       "  <tbody>\n",
       "    <tr>\n",
       "      <th>0</th>\n",
       "      <td>citeseer</td>\n",
       "      <td>(1, 1)</td>\n",
       "      <td>0.712</td>\n",
       "      <td>0.016</td>\n",
       "      <td>0.272</td>\n",
       "    </tr>\n",
       "    <tr>\n",
       "      <th>1</th>\n",
       "      <td>citeseer</td>\n",
       "      <td>(5, 3)</td>\n",
       "      <td>0.676</td>\n",
       "      <td>0.012</td>\n",
       "      <td>0.312</td>\n",
       "    </tr>\n",
       "    <tr>\n",
       "      <th>2</th>\n",
       "      <td>citeseer</td>\n",
       "      <td>(10, 5)</td>\n",
       "      <td>0.472</td>\n",
       "      <td>0.005</td>\n",
       "      <td>0.523</td>\n",
       "    </tr>\n",
       "    <tr>\n",
       "      <th>3</th>\n",
       "      <td>cora_ml</td>\n",
       "      <td>(1, 1)</td>\n",
       "      <td>0.843</td>\n",
       "      <td>0.000</td>\n",
       "      <td>0.157</td>\n",
       "    </tr>\n",
       "    <tr>\n",
       "      <th>4</th>\n",
       "      <td>cora_ml</td>\n",
       "      <td>(5, 3)</td>\n",
       "      <td>0.769</td>\n",
       "      <td>0.000</td>\n",
       "      <td>0.231</td>\n",
       "    </tr>\n",
       "    <tr>\n",
       "      <th>5</th>\n",
       "      <td>cora_ml</td>\n",
       "      <td>(10, 5)</td>\n",
       "      <td>0.704</td>\n",
       "      <td>0.000</td>\n",
       "      <td>0.296</td>\n",
       "    </tr>\n",
       "    <tr>\n",
       "      <th>6</th>\n",
       "      <td>pubmed</td>\n",
       "      <td>(1, 1)</td>\n",
       "      <td>0.855</td>\n",
       "      <td>0.015</td>\n",
       "      <td>0.130</td>\n",
       "    </tr>\n",
       "    <tr>\n",
       "      <th>7</th>\n",
       "      <td>pubmed</td>\n",
       "      <td>(5, 3)</td>\n",
       "      <td>0.646</td>\n",
       "      <td>0.003</td>\n",
       "      <td>0.351</td>\n",
       "    </tr>\n",
       "    <tr>\n",
       "      <th>8</th>\n",
       "      <td>pubmed</td>\n",
       "      <td>(10, 5)</td>\n",
       "      <td>0.612</td>\n",
       "      <td>0.004</td>\n",
       "      <td>0.384</td>\n",
       "    </tr>\n",
       "  </tbody>\n",
       "</table>\n",
       "</div>"
      ],
      "text/plain": [
       "    dataset  budgets   cert  uncert  not_sure\n",
       "0  citeseer   (1, 1)  0.712   0.016     0.272\n",
       "1  citeseer   (5, 3)  0.676   0.012     0.312\n",
       "2  citeseer  (10, 5)  0.472   0.005     0.523\n",
       "3   cora_ml   (1, 1)  0.843   0.000     0.157\n",
       "4   cora_ml   (5, 3)  0.769   0.000     0.231\n",
       "5   cora_ml  (10, 5)  0.704   0.000     0.296\n",
       "6    pubmed   (1, 1)  0.855   0.015     0.130\n",
       "7    pubmed   (5, 3)  0.646   0.003     0.351\n",
       "8    pubmed  (10, 5)  0.612   0.004     0.384"
      ]
     },
     "execution_count": 15,
     "metadata": {},
     "output_type": "execute_result"
    }
   ],
   "source": [
    "cert_df"
   ]
  },
  {
   "cell_type": "code",
   "execution_count": 17,
   "metadata": {},
   "outputs": [
    {
     "data": {
      "image/png": "[encoded data removed]",
      "text/plain": [
       "<Figure size 432x288 with 1 Axes>"
      ]
     },
     "metadata": {
      "needs_background": "light"
     },
     "output_type": "display_data"
    }
   ],
   "source": [
    "time_df = pd.DataFrame.from_dict(time_data)\n",
    "g = sns.barplot(data=time_df, x=\"dataset\", y=\"solving_time\", hue=\"budgets\")\n",
    "g.set(title=\"AI\")\n",
    "g.set_yscale(\"log\")"
   ]
  },
  {
   "cell_type": "code",
   "execution_count": 11,
   "metadata": {},
   "outputs": [],
   "source": [
    "cert_df.to_csv(\"res/ai_cert.csv\")\n",
    "time_df.to_csv(\"res/ai_time.csv\")"
   ]
  }
 ],
 "metadata": {
  "kernelspec": {
   "display_name": "Python 3",
   "language": "python",
   "name": "python3"
  },
  "language_info": {
   "codemirror_mode": {
    "name": "ipython",
    "version": 3
   },
   "file_extension": ".py",
   "mimetype": "text/x-python",
   "name": "python",
   "nbconvert_exporter": "python",
   "pygments_lexer": "ipython3",
   "version": "3.6.7"
  }
 },
 "nbformat": 4,
 "nbformat_minor": 4
}
