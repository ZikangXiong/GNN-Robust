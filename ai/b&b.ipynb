{
 "cells": [
  {
   "cell_type": "code",
   "execution_count": 1,
   "metadata": {},
   "outputs": [],
   "source": [
    "%load_ext autoreload\n",
    "%autoreload 2"
   ]
  },
  {
   "cell_type": "code",
   "execution_count": 2,
   "metadata": {},
   "outputs": [],
   "source": [
    "import ray\n",
    "import pandas as pd\n",
    "import seaborn as sns"
   ]
  },
  {
   "cell_type": "code",
   "execution_count": 3,
   "metadata": {},
   "outputs": [
    {
     "name": "stderr",
     "output_type": "stream",
     "text": [
      "2020-12-02 00:08:29,533\tINFO services.py:1166 -- View the Ray dashboard at \u001b[1m\u001b[32mhttp://127.0.0.1:8265\u001b[39m\u001b[22m\n"
     ]
    }
   ],
   "source": [
    "_ = ray.init(num_cpus=12)"
   ]
  },
  {
   "cell_type": "code",
   "execution_count": 4,
   "metadata": {},
   "outputs": [],
   "source": [
    "from robust_gcn_structure import loader\n",
    "from robust_gcn_structure.certification import certify\n",
    "\n",
    "import time\n",
    "import warnings"
   ]
  },
  {
   "cell_type": "code",
   "execution_count": 5,
   "metadata": {},
   "outputs": [],
   "source": [
    "@ray.remote\n",
    "def check(dataset, node_range, Q, q, solver=\"ECOS\"):\n",
    "    warnings.filterwarnings('ignore')\n",
    "    times = []\n",
    "    A, X, z = loader.load_dataset(dataset)\n",
    "    weight_list = loader.load_network(dataset, False)\n",
    "\n",
    "    kwargs = {\n",
    "        'tolerance': 1e-2,\n",
    "        'max_iter': 10\n",
    "    }\n",
    "\n",
    "    cert_count = 0\n",
    "    uncert_count = 0\n",
    "    not_sure = 0\n",
    "    for i in node_range:\n",
    "        eval_class = None\n",
    "        target_node = i\n",
    "        start = time.time()\n",
    "        results = certify(target_node, A, X, weight_list, z,\n",
    "                          local_changes=q,\n",
    "                          global_changes=Q,\n",
    "                          solver=solver, eval_class=eval_class,\n",
    "                          use_predicted_class=True,\n",
    "                          **kwargs)\n",
    "        end = time.time()\n",
    "        times.append(end - start)\n",
    "        \n",
    "        if results[\"all_robust\"]:\n",
    "            cert_count += 1\n",
    "        else:\n",
    "            changed = False\n",
    "            for k in results:\n",
    "                if type(results[k]) is dict and \\\n",
    "                        len(results[k].get(\"best_uppers\", [])) == kwargs[\"max_iter\"]:\n",
    "                    not_sure += 1\n",
    "                    changed = True\n",
    "\n",
    "            if not changed:\n",
    "                uncert_count += 1\n",
    "\n",
    "\n",
    "    return (cert_count, uncert_count, not_sure), times"
   ]
  },
  {
   "cell_type": "code",
   "execution_count": 6,
   "metadata": {},
   "outputs": [],
   "source": [
    "budgets = [(1, 1), (5, 3), (10, 5)]\n",
    "datasets = [\"citeseer\", \"cora_ml\", \"pubmed\"]\n",
    "node_range = range(0, 100)"
   ]
  },
  {
   "cell_type": "code",
   "execution_count": 7,
   "metadata": {},
   "outputs": [],
   "source": [
    "res = []\n",
    "for d in datasets:\n",
    "    for b in budgets:\n",
    "        res.append(check.remote(d, node_range, *b))"
   ]
  },
  {
   "cell_type": "code",
   "execution_count": 8,
   "metadata": {},
   "outputs": [],
   "source": [
    "i = 0\n",
    "cert_data = {\"dataset\": [], \"budgets\": [], \"cert\": [], \"uncert\": [], \"not_sure\": []}\n",
    "time_data = {\"node\": [], \"dataset\": [], \"budgets\": [], \"solving_time\": []}\n",
    "\n",
    "for d in datasets:\n",
    "    for b in budgets:\n",
    "        (cert, uncert, not_sure), times = ray.get(res[i])\n",
    "        cert_data[\"dataset\"].append(d)\n",
    "        cert_data[\"budgets\"].append(str(b))\n",
    "        cert_data[\"cert\"].append(cert)\n",
    "        cert_data[\"uncert\"].append(uncert)\n",
    "        cert_data[\"not_sure\"].append(not_sure)\n",
    "        \n",
    "        for n, t in zip(node_range, times):\n",
    "            time_data[\"node\"].append(n)\n",
    "            time_data[\"dataset\"].append(d)\n",
    "            time_data[\"budgets\"].append(str(b))\n",
    "            time_data[\"solving_time\"].append(t)\n",
    "        \n",
    "        i = i+1"
   ]
  },
  {
   "cell_type": "code",
   "execution_count": 9,
   "metadata": {},
   "outputs": [
    {
     "data": {
      "text/html": [
       "<div>\n",
       "<style scoped>\n",
       "    .dataframe tbody tr th:only-of-type {\n",
       "        vertical-align: middle;\n",
       "    }\n",
       "\n",
       "    .dataframe tbody tr th {\n",
       "        vertical-align: top;\n",
       "    }\n",
       "\n",
       "    .dataframe thead th {\n",
       "        text-align: right;\n",
       "    }\n",
       "</style>\n",
       "<table border=\"1\" class=\"dataframe\">\n",
       "  <thead>\n",
       "    <tr style=\"text-align: right;\">\n",
       "      <th></th>\n",
       "      <th>dataset</th>\n",
       "      <th>budgets</th>\n",
       "      <th>cert</th>\n",
       "      <th>uncert</th>\n",
       "      <th>not_sure</th>\n",
       "    </tr>\n",
       "  </thead>\n",
       "  <tbody>\n",
       "    <tr>\n",
       "      <th>0</th>\n",
       "      <td>citeseer</td>\n",
       "      <td>(1, 1)</td>\n",
       "      <td>91</td>\n",
       "      <td>9</td>\n",
       "      <td>0</td>\n",
       "    </tr>\n",
       "    <tr>\n",
       "      <th>1</th>\n",
       "      <td>citeseer</td>\n",
       "      <td>(5, 3)</td>\n",
       "      <td>79</td>\n",
       "      <td>14</td>\n",
       "      <td>7</td>\n",
       "    </tr>\n",
       "    <tr>\n",
       "      <th>2</th>\n",
       "      <td>citeseer</td>\n",
       "      <td>(10, 5)</td>\n",
       "      <td>75</td>\n",
       "      <td>15</td>\n",
       "      <td>10</td>\n",
       "    </tr>\n",
       "    <tr>\n",
       "      <th>3</th>\n",
       "      <td>cora_ml</td>\n",
       "      <td>(1, 1)</td>\n",
       "      <td>78</td>\n",
       "      <td>20</td>\n",
       "      <td>2</td>\n",
       "    </tr>\n",
       "    <tr>\n",
       "      <th>4</th>\n",
       "      <td>cora_ml</td>\n",
       "      <td>(5, 3)</td>\n",
       "      <td>39</td>\n",
       "      <td>36</td>\n",
       "      <td>25</td>\n",
       "    </tr>\n",
       "    <tr>\n",
       "      <th>5</th>\n",
       "      <td>cora_ml</td>\n",
       "      <td>(10, 5)</td>\n",
       "      <td>17</td>\n",
       "      <td>38</td>\n",
       "      <td>46</td>\n",
       "    </tr>\n",
       "    <tr>\n",
       "      <th>6</th>\n",
       "      <td>pubmed</td>\n",
       "      <td>(1, 1)</td>\n",
       "      <td>74</td>\n",
       "      <td>24</td>\n",
       "      <td>2</td>\n",
       "    </tr>\n",
       "    <tr>\n",
       "      <th>7</th>\n",
       "      <td>pubmed</td>\n",
       "      <td>(5, 3)</td>\n",
       "      <td>49</td>\n",
       "      <td>44</td>\n",
       "      <td>7</td>\n",
       "    </tr>\n",
       "    <tr>\n",
       "      <th>8</th>\n",
       "      <td>pubmed</td>\n",
       "      <td>(10, 5)</td>\n",
       "      <td>46</td>\n",
       "      <td>49</td>\n",
       "      <td>5</td>\n",
       "    </tr>\n",
       "  </tbody>\n",
       "</table>\n",
       "</div>"
      ],
      "text/plain": [
       "    dataset  budgets  cert  uncert  not_sure\n",
       "0  citeseer   (1, 1)    91       9         0\n",
       "1  citeseer   (5, 3)    79      14         7\n",
       "2  citeseer  (10, 5)    75      15        10\n",
       "3   cora_ml   (1, 1)    78      20         2\n",
       "4   cora_ml   (5, 3)    39      36        25\n",
       "5   cora_ml  (10, 5)    17      38        46\n",
       "6    pubmed   (1, 1)    74      24         2\n",
       "7    pubmed   (5, 3)    49      44         7\n",
       "8    pubmed  (10, 5)    46      49         5"
      ]
     },
     "execution_count": 9,
     "metadata": {},
     "output_type": "execute_result"
    }
   ],
   "source": [
    "cert_df = pd.DataFrame.from_dict(cert_data)\n",
    "cert_df"
   ]
  },
  {
   "cell_type": "code",
   "execution_count": 13,
   "metadata": {},
   "outputs": [],
   "source": [
    "cert_df[\"cert\"] /= 100\n",
    "cert_df[\"uncert\"] /= 100\n",
    "cert_df[\"not_sure\"] /= 100"
   ]
  },
  {
   "cell_type": "code",
   "execution_count": 14,
   "metadata": {},
   "outputs": [
    {
     "data": {
      "text/html": [
       "<div>\n",
       "<style scoped>\n",
       "    .dataframe tbody tr th:only-of-type {\n",
       "        vertical-align: middle;\n",
       "    }\n",
       "\n",
       "    .dataframe tbody tr th {\n",
       "        vertical-align: top;\n",
       "    }\n",
       "\n",
       "    .dataframe thead th {\n",
       "        text-align: right;\n",
       "    }\n",
       "</style>\n",
       "<table border=\"1\" class=\"dataframe\">\n",
       "  <thead>\n",
       "    <tr style=\"text-align: right;\">\n",
       "      <th></th>\n",
       "      <th>dataset</th>\n",
       "      <th>budgets</th>\n",
       "      <th>cert</th>\n",
       "      <th>uncert</th>\n",
       "      <th>not_sure</th>\n",
       "    </tr>\n",
       "  </thead>\n",
       "  <tbody>\n",
       "    <tr>\n",
       "      <th>0</th>\n",
       "      <td>citeseer</td>\n",
       "      <td>(1, 1)</td>\n",
       "      <td>0.91</td>\n",
       "      <td>0.09</td>\n",
       "      <td>0.00</td>\n",
       "    </tr>\n",
       "    <tr>\n",
       "      <th>1</th>\n",
       "      <td>citeseer</td>\n",
       "      <td>(5, 3)</td>\n",
       "      <td>0.79</td>\n",
       "      <td>0.14</td>\n",
       "      <td>0.07</td>\n",
       "    </tr>\n",
       "    <tr>\n",
       "      <th>2</th>\n",
       "      <td>citeseer</td>\n",
       "      <td>(10, 5)</td>\n",
       "      <td>0.75</td>\n",
       "      <td>0.15</td>\n",
       "      <td>0.10</td>\n",
       "    </tr>\n",
       "    <tr>\n",
       "      <th>3</th>\n",
       "      <td>cora_ml</td>\n",
       "      <td>(1, 1)</td>\n",
       "      <td>0.78</td>\n",
       "      <td>0.20</td>\n",
       "      <td>0.02</td>\n",
       "    </tr>\n",
       "    <tr>\n",
       "      <th>4</th>\n",
       "      <td>cora_ml</td>\n",
       "      <td>(5, 3)</td>\n",
       "      <td>0.39</td>\n",
       "      <td>0.36</td>\n",
       "      <td>0.25</td>\n",
       "    </tr>\n",
       "    <tr>\n",
       "      <th>5</th>\n",
       "      <td>cora_ml</td>\n",
       "      <td>(10, 5)</td>\n",
       "      <td>0.17</td>\n",
       "      <td>0.38</td>\n",
       "      <td>0.46</td>\n",
       "    </tr>\n",
       "    <tr>\n",
       "      <th>6</th>\n",
       "      <td>pubmed</td>\n",
       "      <td>(1, 1)</td>\n",
       "      <td>0.74</td>\n",
       "      <td>0.24</td>\n",
       "      <td>0.02</td>\n",
       "    </tr>\n",
       "    <tr>\n",
       "      <th>7</th>\n",
       "      <td>pubmed</td>\n",
       "      <td>(5, 3)</td>\n",
       "      <td>0.49</td>\n",
       "      <td>0.44</td>\n",
       "      <td>0.07</td>\n",
       "    </tr>\n",
       "    <tr>\n",
       "      <th>8</th>\n",
       "      <td>pubmed</td>\n",
       "      <td>(10, 5)</td>\n",
       "      <td>0.46</td>\n",
       "      <td>0.49</td>\n",
       "      <td>0.05</td>\n",
       "    </tr>\n",
       "  </tbody>\n",
       "</table>\n",
       "</div>"
      ],
      "text/plain": [
       "    dataset  budgets  cert  uncert  not_sure\n",
       "0  citeseer   (1, 1)  0.91    0.09      0.00\n",
       "1  citeseer   (5, 3)  0.79    0.14      0.07\n",
       "2  citeseer  (10, 5)  0.75    0.15      0.10\n",
       "3   cora_ml   (1, 1)  0.78    0.20      0.02\n",
       "4   cora_ml   (5, 3)  0.39    0.36      0.25\n",
       "5   cora_ml  (10, 5)  0.17    0.38      0.46\n",
       "6    pubmed   (1, 1)  0.74    0.24      0.02\n",
       "7    pubmed   (5, 3)  0.49    0.44      0.07\n",
       "8    pubmed  (10, 5)  0.46    0.49      0.05"
      ]
     },
     "execution_count": 14,
     "metadata": {},
     "output_type": "execute_result"
    }
   ],
   "source": [
    "cert_df"
   ]
  },
  {
   "cell_type": "code",
   "execution_count": 17,
   "metadata": {},
   "outputs": [
    {
     "data": {
      "image/png": "[encoded data removed]",
      "text/plain": [
       "<Figure size 432x288 with 1 Axes>"
      ]
     },
     "metadata": {
      "needs_background": "light"
     },
     "output_type": "display_data"
    }
   ],
   "source": [
    "time_df = pd.DataFrame.from_dict(time_data)\n",
    "g = sns.barplot(data=time_df, x=\"dataset\", y=\"solving_time\", hue=\"budgets\")\n",
    "g.set(title=\"B&B\")\n",
    "g.set_yscale(\"log\")"
   ]
  },
  {
   "cell_type": "code",
   "execution_count": 12,
   "metadata": {},
   "outputs": [],
   "source": [
    "cert_df.to_csv(\"res/bb_cert.csv\")\n",
    "time_df.to_csv(\"res/bb_time.csv\")"
   ]
  }
 ],
 "metadata": {
  "kernelspec": {
   "display_name": "Python 3",
   "language": "python",
   "name": "python3"
  },
  "language_info": {
   "codemirror_mode": {
    "name": "ipython",
    "version": 3
   },
   "file_extension": ".py",
   "mimetype": "text/x-python",
   "name": "python",
   "nbconvert_exporter": "python",
   "pygments_lexer": "ipython3",
   "version": "3.6.7"
  }
 },
 "nbformat": 4,
 "nbformat_minor": 4
}
